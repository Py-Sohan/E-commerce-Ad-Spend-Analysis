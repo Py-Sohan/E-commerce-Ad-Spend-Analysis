{
 "cells": [
  {
   "cell_type": "code",
   "execution_count": 27,
   "id": "25eeb968",
   "metadata": {},
   "outputs": [],
   "source": [
    "import numpy as np\n",
    "import pandas as pd\n",
    "import matplotlib.pyplot as plt\n",
    "import seaborn as sns\n",
    "import matplotlib.pyplot as plt\n",
    "from scipy import stats\n",
    "import warnings\n",
    "warnings.filterwarnings('ignore')"
   ]
  },
  {
   "cell_type": "code",
   "execution_count": 28,
   "id": "fe0f231f",
   "metadata": {},
   "outputs": [
    {
     "name": "stdout",
     "output_type": "stream",
     "text": [
      "data loaded\n"
     ]
    }
   ],
   "source": [
    "data = pd.read_csv(\"final_website_stats.csv\")\n",
    "print('data loaded')"
   ]
  },
  {
   "cell_type": "markdown",
   "id": "b60c1caf",
   "metadata": {},
   "source": [
    "# 🧪 Hypothesis Testing on Ad Spend Data\n",
    "\n",
    "## 📁 Project Overview\n",
    "\n",
    "In this project, we analyze a dataset containing online advertisement spending data across different dates. Our objective is to understand **whether ad spending patterns differ significantly between weekends and weekdays**. This hypothesis test offers insights into user behavior and can guide more effective budget allocations for marketing strategies.\n",
    "\n",
    "---\n",
    "\n",
    "## 📊 Dataset Description\n",
    "\n",
    "| Column Name     | Description                                 |\n",
    "|-----------------|---------------------------------------------|\n",
    "| `timestamp`     | Date of the data record                     |\n",
    "| `page_views`    | Number of page views on that day            |\n",
    "| `ad_spend`      | Amount spent on ads on that day             |\n",
    "| `is_weekend`    | Boolean indicating if the day is a weekend  |\n",
    "| `day_of_week`   | Name of the day (e.g., Monday, Tuesday)     |\n",
    "| `is_holiday`    | Boolean indicating if the day is a holiday  |\n",
    "\n",
    "\n",
    "---\n",
    "\n",
    "## ❓ Hypothesis Testing Problem\n",
    "\n",
    "## **Research Question:**\n",
    "> Is there a statistically significant difference in ad spend between weekends and weekdays?\n",
    "\n",
    "---\n",
    "\n"
   ]
  },
  {
   "cell_type": "code",
   "execution_count": 29,
   "id": "34b53438",
   "metadata": {},
   "outputs": [
    {
     "data": {
      "text/html": [
       "<div>\n",
       "<style scoped>\n",
       "    .dataframe tbody tr th:only-of-type {\n",
       "        vertical-align: middle;\n",
       "    }\n",
       "\n",
       "    .dataframe tbody tr th {\n",
       "        vertical-align: top;\n",
       "    }\n",
       "\n",
       "    .dataframe thead th {\n",
       "        text-align: right;\n",
       "    }\n",
       "</style>\n",
       "<table border=\"1\" class=\"dataframe\">\n",
       "  <thead>\n",
       "    <tr style=\"text-align: right;\">\n",
       "      <th></th>\n",
       "      <th>Unnamed: 0</th>\n",
       "      <th>timestamp</th>\n",
       "      <th>page_views</th>\n",
       "      <th>ad_spend</th>\n",
       "      <th>is_weekend</th>\n",
       "      <th>day_of_week</th>\n",
       "      <th>is_holiday</th>\n",
       "    </tr>\n",
       "  </thead>\n",
       "  <tbody>\n",
       "    <tr>\n",
       "      <th>0</th>\n",
       "      <td>0</td>\n",
       "      <td>2022-01-01</td>\n",
       "      <td>1165.962767</td>\n",
       "      <td>194.901425</td>\n",
       "      <td>True</td>\n",
       "      <td>Saturday</td>\n",
       "      <td>True</td>\n",
       "    </tr>\n",
       "    <tr>\n",
       "      <th>1</th>\n",
       "      <td>1</td>\n",
       "      <td>2022-01-02</td>\n",
       "      <td>1191.485835</td>\n",
       "      <td>175.852071</td>\n",
       "      <td>True</td>\n",
       "      <td>Sunday</td>\n",
       "      <td>False</td>\n",
       "    </tr>\n",
       "    <tr>\n",
       "      <th>2</th>\n",
       "      <td>2</td>\n",
       "      <td>2022-01-03</td>\n",
       "      <td>1266.928269</td>\n",
       "      <td>269.430656</td>\n",
       "      <td>False</td>\n",
       "      <td>Monday</td>\n",
       "      <td>False</td>\n",
       "    </tr>\n",
       "    <tr>\n",
       "      <th>3</th>\n",
       "      <td>3</td>\n",
       "      <td>2022-01-04</td>\n",
       "      <td>1364.193858</td>\n",
       "      <td>295.690896</td>\n",
       "      <td>False</td>\n",
       "      <td>Tuesday</td>\n",
       "      <td>False</td>\n",
       "    </tr>\n",
       "    <tr>\n",
       "      <th>4</th>\n",
       "      <td>4</td>\n",
       "      <td>2022-01-05</td>\n",
       "      <td>1013.282520</td>\n",
       "      <td>242.975399</td>\n",
       "      <td>False</td>\n",
       "      <td>Wednesday</td>\n",
       "      <td>False</td>\n",
       "    </tr>\n",
       "  </tbody>\n",
       "</table>\n",
       "</div>"
      ],
      "text/plain": [
       "   Unnamed: 0   timestamp   page_views    ad_spend  is_weekend day_of_week  \\\n",
       "0           0  2022-01-01  1165.962767  194.901425        True    Saturday   \n",
       "1           1  2022-01-02  1191.485835  175.852071        True      Sunday   \n",
       "2           2  2022-01-03  1266.928269  269.430656       False      Monday   \n",
       "3           3  2022-01-04  1364.193858  295.690896       False     Tuesday   \n",
       "4           4  2022-01-05  1013.282520  242.975399       False   Wednesday   \n",
       "\n",
       "   is_holiday  \n",
       "0        True  \n",
       "1       False  \n",
       "2       False  \n",
       "3       False  \n",
       "4       False  "
      ]
     },
     "metadata": {},
     "output_type": "display_data"
    }
   ],
   "source": [
    "display(data.head())"
   ]
  },
  {
   "cell_type": "code",
   "execution_count": 30,
   "id": "0fec9c85",
   "metadata": {},
   "outputs": [
    {
     "data": {
      "text/plain": [
       "Unnamed: 0     0\n",
       "timestamp      0\n",
       "page_views     0\n",
       "ad_spend       0\n",
       "is_weekend     0\n",
       "day_of_week    0\n",
       "is_holiday     0\n",
       "dtype: int64"
      ]
     },
     "execution_count": 30,
     "metadata": {},
     "output_type": "execute_result"
    }
   ],
   "source": [
    "data.isnull().sum()"
   ]
  },
  {
   "cell_type": "code",
   "execution_count": 31,
   "id": "84015874",
   "metadata": {},
   "outputs": [],
   "source": [
    "data = data.drop(columns=['Unnamed: 0'])"
   ]
  },
  {
   "cell_type": "code",
   "execution_count": 32,
   "id": "6955ceed",
   "metadata": {},
   "outputs": [
    {
     "data": {
      "text/html": [
       "<div>\n",
       "<style scoped>\n",
       "    .dataframe tbody tr th:only-of-type {\n",
       "        vertical-align: middle;\n",
       "    }\n",
       "\n",
       "    .dataframe tbody tr th {\n",
       "        vertical-align: top;\n",
       "    }\n",
       "\n",
       "    .dataframe thead th {\n",
       "        text-align: right;\n",
       "    }\n",
       "</style>\n",
       "<table border=\"1\" class=\"dataframe\">\n",
       "  <thead>\n",
       "    <tr style=\"text-align: right;\">\n",
       "      <th></th>\n",
       "      <th>timestamp</th>\n",
       "      <th>page_views</th>\n",
       "      <th>ad_spend</th>\n",
       "      <th>is_weekend</th>\n",
       "      <th>day_of_week</th>\n",
       "      <th>is_holiday</th>\n",
       "    </tr>\n",
       "  </thead>\n",
       "  <tbody>\n",
       "    <tr>\n",
       "      <th>0</th>\n",
       "      <td>2022-01-01</td>\n",
       "      <td>1165.962767</td>\n",
       "      <td>194.901425</td>\n",
       "      <td>True</td>\n",
       "      <td>Saturday</td>\n",
       "      <td>True</td>\n",
       "    </tr>\n",
       "    <tr>\n",
       "      <th>1</th>\n",
       "      <td>2022-01-02</td>\n",
       "      <td>1191.485835</td>\n",
       "      <td>175.852071</td>\n",
       "      <td>True</td>\n",
       "      <td>Sunday</td>\n",
       "      <td>False</td>\n",
       "    </tr>\n",
       "    <tr>\n",
       "      <th>2</th>\n",
       "      <td>2022-01-03</td>\n",
       "      <td>1266.928269</td>\n",
       "      <td>269.430656</td>\n",
       "      <td>False</td>\n",
       "      <td>Monday</td>\n",
       "      <td>False</td>\n",
       "    </tr>\n",
       "    <tr>\n",
       "      <th>3</th>\n",
       "      <td>2022-01-04</td>\n",
       "      <td>1364.193858</td>\n",
       "      <td>295.690896</td>\n",
       "      <td>False</td>\n",
       "      <td>Tuesday</td>\n",
       "      <td>False</td>\n",
       "    </tr>\n",
       "    <tr>\n",
       "      <th>4</th>\n",
       "      <td>2022-01-05</td>\n",
       "      <td>1013.282520</td>\n",
       "      <td>242.975399</td>\n",
       "      <td>False</td>\n",
       "      <td>Wednesday</td>\n",
       "      <td>False</td>\n",
       "    </tr>\n",
       "  </tbody>\n",
       "</table>\n",
       "</div>"
      ],
      "text/plain": [
       "   timestamp   page_views    ad_spend  is_weekend day_of_week  is_holiday\n",
       "0 2022-01-01  1165.962767  194.901425        True    Saturday        True\n",
       "1 2022-01-02  1191.485835  175.852071        True      Sunday       False\n",
       "2 2022-01-03  1266.928269  269.430656       False      Monday       False\n",
       "3 2022-01-04  1364.193858  295.690896       False     Tuesday       False\n",
       "4 2022-01-05  1013.282520  242.975399       False   Wednesday       False"
      ]
     },
     "metadata": {},
     "output_type": "display_data"
    }
   ],
   "source": [
    "data['timestamp'] = pd.to_datetime(data['timestamp'])\n",
    "display(data.head())"
   ]
  },
  {
   "cell_type": "code",
   "execution_count": 33,
   "id": "27f89b94",
   "metadata": {},
   "outputs": [
    {
     "data": {
      "text/html": [
       "<div>\n",
       "<style scoped>\n",
       "    .dataframe tbody tr th:only-of-type {\n",
       "        vertical-align: middle;\n",
       "    }\n",
       "\n",
       "    .dataframe tbody tr th {\n",
       "        vertical-align: top;\n",
       "    }\n",
       "\n",
       "    .dataframe thead th {\n",
       "        text-align: right;\n",
       "    }\n",
       "</style>\n",
       "<table border=\"1\" class=\"dataframe\">\n",
       "  <thead>\n",
       "    <tr style=\"text-align: right;\">\n",
       "      <th></th>\n",
       "      <th>timestamp</th>\n",
       "      <th>page_views</th>\n",
       "      <th>ad_spend</th>\n",
       "      <th>is_weekend</th>\n",
       "      <th>day_of_week</th>\n",
       "      <th>is_holiday</th>\n",
       "      <th>conversion_rate</th>\n",
       "    </tr>\n",
       "  </thead>\n",
       "  <tbody>\n",
       "    <tr>\n",
       "      <th>0</th>\n",
       "      <td>2022-01-01</td>\n",
       "      <td>1165.962767</td>\n",
       "      <td>194.901425</td>\n",
       "      <td>True</td>\n",
       "      <td>Saturday</td>\n",
       "      <td>True</td>\n",
       "      <td>5.982320</td>\n",
       "    </tr>\n",
       "    <tr>\n",
       "      <th>1</th>\n",
       "      <td>2022-01-02</td>\n",
       "      <td>1191.485835</td>\n",
       "      <td>175.852071</td>\n",
       "      <td>True</td>\n",
       "      <td>Sunday</td>\n",
       "      <td>False</td>\n",
       "      <td>6.775501</td>\n",
       "    </tr>\n",
       "    <tr>\n",
       "      <th>2</th>\n",
       "      <td>2022-01-03</td>\n",
       "      <td>1266.928269</td>\n",
       "      <td>269.430656</td>\n",
       "      <td>False</td>\n",
       "      <td>Monday</td>\n",
       "      <td>False</td>\n",
       "      <td>4.702242</td>\n",
       "    </tr>\n",
       "    <tr>\n",
       "      <th>3</th>\n",
       "      <td>2022-01-04</td>\n",
       "      <td>1364.193858</td>\n",
       "      <td>295.690896</td>\n",
       "      <td>False</td>\n",
       "      <td>Tuesday</td>\n",
       "      <td>False</td>\n",
       "      <td>4.613581</td>\n",
       "    </tr>\n",
       "    <tr>\n",
       "      <th>4</th>\n",
       "      <td>2022-01-05</td>\n",
       "      <td>1013.282520</td>\n",
       "      <td>242.975399</td>\n",
       "      <td>False</td>\n",
       "      <td>Wednesday</td>\n",
       "      <td>False</td>\n",
       "      <td>4.170309</td>\n",
       "    </tr>\n",
       "  </tbody>\n",
       "</table>\n",
       "</div>"
      ],
      "text/plain": [
       "   timestamp   page_views    ad_spend  is_weekend day_of_week  is_holiday  \\\n",
       "0 2022-01-01  1165.962767  194.901425        True    Saturday        True   \n",
       "1 2022-01-02  1191.485835  175.852071        True      Sunday       False   \n",
       "2 2022-01-03  1266.928269  269.430656       False      Monday       False   \n",
       "3 2022-01-04  1364.193858  295.690896       False     Tuesday       False   \n",
       "4 2022-01-05  1013.282520  242.975399       False   Wednesday       False   \n",
       "\n",
       "   conversion_rate  \n",
       "0         5.982320  \n",
       "1         6.775501  \n",
       "2         4.702242  \n",
       "3         4.613581  \n",
       "4         4.170309  "
      ]
     },
     "metadata": {},
     "output_type": "display_data"
    }
   ],
   "source": [
    "# Create a new column for conversion rate (assuming conversion rate is page_views / ad_spend)\n",
    "data['conversion_rate'] = data['page_views'] / data['ad_spend']\n",
    "display(data.head())"
   ]
  },
  {
   "cell_type": "code",
   "execution_count": 42,
   "id": "5415cd62",
   "metadata": {},
   "outputs": [
    {
     "name": "stdout",
     "output_type": "stream",
     "text": [
      "Holiday Data \n",
      "\n"
     ]
    },
    {
     "data": {
      "text/html": [
       "<div>\n",
       "<style scoped>\n",
       "    .dataframe tbody tr th:only-of-type {\n",
       "        vertical-align: middle;\n",
       "    }\n",
       "\n",
       "    .dataframe tbody tr th {\n",
       "        vertical-align: top;\n",
       "    }\n",
       "\n",
       "    .dataframe thead th {\n",
       "        text-align: right;\n",
       "    }\n",
       "</style>\n",
       "<table border=\"1\" class=\"dataframe\">\n",
       "  <thead>\n",
       "    <tr style=\"text-align: right;\">\n",
       "      <th></th>\n",
       "      <th>timestamp</th>\n",
       "      <th>page_views</th>\n",
       "      <th>ad_spend</th>\n",
       "      <th>is_weekend</th>\n",
       "      <th>day_of_week</th>\n",
       "      <th>is_holiday</th>\n",
       "      <th>conversion_rate</th>\n",
       "    </tr>\n",
       "  </thead>\n",
       "  <tbody>\n",
       "    <tr>\n",
       "      <th>0</th>\n",
       "      <td>2022-01-01</td>\n",
       "      <td>1165.962767</td>\n",
       "      <td>194.901425</td>\n",
       "      <td>True</td>\n",
       "      <td>Saturday</td>\n",
       "      <td>True</td>\n",
       "      <td>5.982320</td>\n",
       "    </tr>\n",
       "    <tr>\n",
       "      <th>184</th>\n",
       "      <td>2022-07-04</td>\n",
       "      <td>1492.490415</td>\n",
       "      <td>393.296116</td>\n",
       "      <td>False</td>\n",
       "      <td>Monday</td>\n",
       "      <td>True</td>\n",
       "      <td>3.794826</td>\n",
       "    </tr>\n",
       "    <tr>\n",
       "      <th>331</th>\n",
       "      <td>2022-11-28</td>\n",
       "      <td>1671.390338</td>\n",
       "      <td>373.082369</td>\n",
       "      <td>False</td>\n",
       "      <td>Monday</td>\n",
       "      <td>True</td>\n",
       "      <td>4.479950</td>\n",
       "    </tr>\n",
       "    <tr>\n",
       "      <th>358</th>\n",
       "      <td>2022-12-25</td>\n",
       "      <td>1491.410599</td>\n",
       "      <td>339.681557</td>\n",
       "      <td>True</td>\n",
       "      <td>Sunday</td>\n",
       "      <td>True</td>\n",
       "      <td>4.390614</td>\n",
       "    </tr>\n",
       "    <tr>\n",
       "      <th>365</th>\n",
       "      <td>2023-01-01</td>\n",
       "      <td>1522.292648</td>\n",
       "      <td>317.963386</td>\n",
       "      <td>True</td>\n",
       "      <td>Sunday</td>\n",
       "      <td>True</td>\n",
       "      <td>4.787635</td>\n",
       "    </tr>\n",
       "  </tbody>\n",
       "</table>\n",
       "</div>"
      ],
      "text/plain": [
       "     timestamp   page_views    ad_spend  is_weekend day_of_week  is_holiday  \\\n",
       "0   2022-01-01  1165.962767  194.901425        True    Saturday        True   \n",
       "184 2022-07-04  1492.490415  393.296116       False      Monday        True   \n",
       "331 2022-11-28  1671.390338  373.082369       False      Monday        True   \n",
       "358 2022-12-25  1491.410599  339.681557        True      Sunday        True   \n",
       "365 2023-01-01  1522.292648  317.963386        True      Sunday        True   \n",
       "\n",
       "     conversion_rate  \n",
       "0           5.982320  \n",
       "184         3.794826  \n",
       "331         4.479950  \n",
       "358         4.390614  \n",
       "365         4.787635  "
      ]
     },
     "metadata": {},
     "output_type": "display_data"
    },
    {
     "name": "stdout",
     "output_type": "stream",
     "text": [
      "Non- Holiday Data \n",
      "\n"
     ]
    },
    {
     "data": {
      "text/html": [
       "<div>\n",
       "<style scoped>\n",
       "    .dataframe tbody tr th:only-of-type {\n",
       "        vertical-align: middle;\n",
       "    }\n",
       "\n",
       "    .dataframe tbody tr th {\n",
       "        vertical-align: top;\n",
       "    }\n",
       "\n",
       "    .dataframe thead th {\n",
       "        text-align: right;\n",
       "    }\n",
       "</style>\n",
       "<table border=\"1\" class=\"dataframe\">\n",
       "  <thead>\n",
       "    <tr style=\"text-align: right;\">\n",
       "      <th></th>\n",
       "      <th>timestamp</th>\n",
       "      <th>page_views</th>\n",
       "      <th>ad_spend</th>\n",
       "      <th>is_weekend</th>\n",
       "      <th>day_of_week</th>\n",
       "      <th>is_holiday</th>\n",
       "      <th>conversion_rate</th>\n",
       "    </tr>\n",
       "  </thead>\n",
       "  <tbody>\n",
       "    <tr>\n",
       "      <th>1</th>\n",
       "      <td>2022-01-02</td>\n",
       "      <td>1191.485835</td>\n",
       "      <td>175.852071</td>\n",
       "      <td>True</td>\n",
       "      <td>Sunday</td>\n",
       "      <td>False</td>\n",
       "      <td>6.775501</td>\n",
       "    </tr>\n",
       "    <tr>\n",
       "      <th>2</th>\n",
       "      <td>2022-01-03</td>\n",
       "      <td>1266.928269</td>\n",
       "      <td>269.430656</td>\n",
       "      <td>False</td>\n",
       "      <td>Monday</td>\n",
       "      <td>False</td>\n",
       "      <td>4.702242</td>\n",
       "    </tr>\n",
       "    <tr>\n",
       "      <th>3</th>\n",
       "      <td>2022-01-04</td>\n",
       "      <td>1364.193858</td>\n",
       "      <td>295.690896</td>\n",
       "      <td>False</td>\n",
       "      <td>Tuesday</td>\n",
       "      <td>False</td>\n",
       "      <td>4.613581</td>\n",
       "    </tr>\n",
       "    <tr>\n",
       "      <th>4</th>\n",
       "      <td>2022-01-05</td>\n",
       "      <td>1013.282520</td>\n",
       "      <td>242.975399</td>\n",
       "      <td>False</td>\n",
       "      <td>Wednesday</td>\n",
       "      <td>False</td>\n",
       "      <td>4.170309</td>\n",
       "    </tr>\n",
       "    <tr>\n",
       "      <th>5</th>\n",
       "      <td>2022-01-06</td>\n",
       "      <td>996.316889</td>\n",
       "      <td>242.975891</td>\n",
       "      <td>False</td>\n",
       "      <td>Thursday</td>\n",
       "      <td>False</td>\n",
       "      <td>4.100476</td>\n",
       "    </tr>\n",
       "  </tbody>\n",
       "</table>\n",
       "</div>"
      ],
      "text/plain": [
       "   timestamp   page_views    ad_spend  is_weekend day_of_week  is_holiday  \\\n",
       "1 2022-01-02  1191.485835  175.852071        True      Sunday       False   \n",
       "2 2022-01-03  1266.928269  269.430656       False      Monday       False   \n",
       "3 2022-01-04  1364.193858  295.690896       False     Tuesday       False   \n",
       "4 2022-01-05  1013.282520  242.975399       False   Wednesday       False   \n",
       "5 2022-01-06   996.316889  242.975891       False    Thursday       False   \n",
       "\n",
       "   conversion_rate  \n",
       "1         6.775501  \n",
       "2         4.702242  \n",
       "3         4.613581  \n",
       "4         4.170309  \n",
       "5         4.100476  "
      ]
     },
     "metadata": {},
     "output_type": "display_data"
    }
   ],
   "source": [
    "# Segment the data into holiday and non-holiday periods\n",
    "holiday_data = data[data['is_holiday'] == True]\n",
    "non_holiday_data = data[data['is_holiday'] == False]\n",
    "\n",
    "print(\"Holiday Data \\n\")\n",
    "display(holiday_data.head())\n",
    "\n",
    "print(\"Non- Holiday Data \\n\")\n",
    "display(non_holiday_data.head())"
   ]
  },
  {
   "cell_type": "code",
   "execution_count": 35,
   "id": "1f021c53",
   "metadata": {},
   "outputs": [
    {
     "name": "stdout",
     "output_type": "stream",
     "text": [
      "Holiday Data Statistics:\n",
      "         ad_spend  conversion_rate\n",
      "count   12.000000        12.000000\n",
      "mean   397.914019         4.233408\n",
      "std    103.955058         0.820185\n",
      "min    194.901425         2.641002\n",
      "25%    364.732166         3.971483\n",
      "50%    393.702810         4.404208\n",
      "75%    411.852465         4.484089\n",
      "max    625.410942         5.982320\n",
      "\n",
      "Non-Holiday Data Statistics:\n",
      "          ad_spend  conversion_rate\n",
      "count  1084.000000      1084.000000\n",
      "mean    247.875711         6.710801\n",
      "std      70.990996         2.155366\n",
      "min     113.665941         1.782064\n",
      "25%     206.264289         5.198349\n",
      "50%     240.194715         6.431822\n",
      "75%     269.362090         7.902812\n",
      "max     679.515529        15.143508\n"
     ]
    }
   ],
   "source": [
    "# Descriptive statistics for ad spend and conversion rates\n",
    "holiday_stats = holiday_data[['ad_spend', 'conversion_rate']].describe()\n",
    "non_holiday_stats = non_holiday_data[['ad_spend', 'conversion_rate']].describe()\n",
    "\n",
    "print(\"Holiday Data Statistics:\")\n",
    "print(holiday_stats)\n",
    "\n",
    "print(\"\\nNon-Holiday Data Statistics:\")\n",
    "print(non_holiday_stats)"
   ]
  },
  {
   "cell_type": "code",
   "execution_count": 36,
   "id": "d90e581b",
   "metadata": {},
   "outputs": [
    {
     "data": {
      "image/png": "[encoded data removed]",
      "text/plain": [
       "<Figure size 1200x600 with 1 Axes>"
      ]
     },
     "metadata": {},
     "output_type": "display_data"
    },
    {
     "data": {
      "image/png": "[encoded data removed]",
      "text/plain": [
       "<Figure size 1200x600 with 1 Axes>"
      ]
     },
     "metadata": {},
     "output_type": "display_data"
    }
   ],
   "source": [
    "# Box plots for ad spend\n",
    "plt.figure(figsize=(12, 6))\n",
    "sns.boxplot(x='is_holiday', y='ad_spend', data=data)\n",
    "plt.title('Ad Spend During Holidays vs Non-Holidays')\n",
    "plt.xlabel('Is Holiday')\n",
    "plt.ylabel('Ad Spend')\n",
    "plt.show()\n",
    "\n",
    "# Box plots for conversion rates\n",
    "plt.figure(figsize=(12, 6))\n",
    "sns.boxplot(x='is_holiday', y='conversion_rate', data=data)\n",
    "plt.title('Conversion Rate During Holidays vs Non-Holidays')\n",
    "plt.xlabel('Is Holiday')\n",
    "plt.ylabel('Conversion Rate')\n",
    "plt.show()"
   ]
  },
  {
   "cell_type": "markdown",
   "id": "c6f3c323",
   "metadata": {},
   "source": [
    "# Hypothesis Testing\n",
    "\n",
    "## Normality Test\n",
    "\n",
    "$H_{0}$: The data is normally distributed.\n",
    "\n",
    "$H_{1}$: The data is not normally distributed."
   ]
  },
  {
   "cell_type": "code",
   "execution_count": 37,
   "id": "7ba38ab9",
   "metadata": {},
   "outputs": [
    {
     "name": "stdout",
     "output_type": "stream",
     "text": [
      "Holiday Data: p-value = 0.3177\n",
      "✅ Fail to reject null hypothesis >> Data is normally distributed.\n",
      "\n",
      "Non-Holiday Data: p-value = 0.0000\n",
      "❌ Reject null hypothesis >> Data is NOT normally distributed.\n",
      "\n"
     ]
    }
   ],
   "source": [
    "def check_normality(group_name, data):\n",
    "    stat, p_value = stats.shapiro(data)\n",
    "    print(f\"{group_name}: p-value = {p_value:.4f}\")\n",
    "    if p_value < 0.05:\n",
    "        print(\"❌ Reject null hypothesis >> Data is NOT normally distributed.\\n\")\n",
    "    else:\n",
    "        print(\"✅ Fail to reject null hypothesis >> Data is normally distributed.\\n\")\n",
    "\n",
    "# Check normality of conversion rates\n",
    "check_normality(\"Holiday Data\", holiday_data['conversion_rate'])\n",
    "check_normality(\"Non-Holiday Data\", non_holiday_data['conversion_rate'])"
   ]
  },
  {
   "cell_type": "markdown",
   "id": "a16e4719",
   "metadata": {},
   "source": [
    "## Variance Homogeneity Test\n"
   ]
  },
  {
   "cell_type": "code",
   "execution_count": 38,
   "id": "e97a863b",
   "metadata": {},
   "outputs": [
    {
     "name": "stdout",
     "output_type": "stream",
     "text": [
      "p value:0.0062\n",
      "❌ Reject null hypothesis >> The variances of the samples are different.\n"
     ]
    }
   ],
   "source": [
    "def check_variance_homogeneity(*groups):\n",
    "    test_stat_var, p_value_var = stats.levene(*groups)\n",
    "    print(\"p value:%.4f\" % p_value_var)\n",
    "    \n",
    "    if p_value_var < 0.05:\n",
    "        print(\"❌ Reject null hypothesis >> The variances of the samples are different.\")\n",
    "    else:\n",
    "        print(\"✅ Fail to reject null hypothesis >> The variances of the samples are same.\")\n",
    "\n",
    "# Check variance homogeneity\n",
    "check_variance_homogeneity(holiday_data['conversion_rate'], non_holiday_data['conversion_rate'])"
   ]
  },
  {
   "cell_type": "markdown",
   "id": "b4f81146",
   "metadata": {},
   "source": [
    "Here, we can see that the data for the non-holiday period is not normally distributed, and the variances of the conversion rates between the holiday and non-holiday periods are different. This means that the assumptions for a t-test are not met, and we should use a non-parametric test instead."
   ]
  },
  {
   "cell_type": "markdown",
   "id": "a8ae7525",
   "metadata": {},
   "source": [
    "## Non-Parametric Test\n",
    "Since the data does not meet the assumptions of a t-test, we will use the Mann-Whitney U test, which is a non-parametric alternative to the t-test. The Mann-Whitney U test is used to determine if there is a statistically significant difference between the medians of two independent groups."
   ]
  },
  {
   "cell_type": "code",
   "execution_count": 39,
   "id": "9d135191",
   "metadata": {},
   "outputs": [
    {
     "name": "stdout",
     "output_type": "stream",
     "text": [
      "U-Statistic: 1568.0\n",
      "P-Value: 6.0114574108177335e-06\n",
      "There is a statistically significant difference in conversion rates between holidays and non-holidays.\n"
     ]
    }
   ],
   "source": [
    "# Mann-Whitney U test\n",
    "u_stat, p_value = stats.mannwhitneyu(holiday_data['conversion_rate'], non_holiday_data['conversion_rate'], alternative='two-sided')\n",
    "\n",
    "print(f\"U-Statistic: {u_stat}\")\n",
    "print(f\"P-Value: {p_value}\")\n",
    "\n",
    "# Interpret the results\n",
    "if p_value < 0.05:\n",
    "    print(\"There is a statistically significant difference in conversion rates between holidays and non-holidays.\")\n",
    "else:\n",
    "    print(\"There is no statistically significant difference in conversion rates between holidays and non-holidays.\")"
   ]
  },
  {
   "cell_type": "code",
   "execution_count": 40,
   "id": "ebb66a7d",
   "metadata": {},
   "outputs": [
    {
     "name": "stdout",
     "output_type": "stream",
     "text": [
      "Holiday Data Statistics:\n",
      "         ad_spend  conversion_rate\n",
      "count   12.000000        12.000000\n",
      "mean   397.914019         4.233408\n",
      "std    103.955058         0.820185\n",
      "min    194.901425         2.641002\n",
      "25%    364.732166         3.971483\n",
      "50%    393.702810         4.404208\n",
      "75%    411.852465         4.484089\n",
      "max    625.410942         5.982320\n",
      "\n",
      "Non-Holiday Data Statistics:\n",
      "          ad_spend  conversion_rate\n",
      "count  1084.000000      1084.000000\n",
      "mean    247.875711         6.710801\n",
      "std      70.990996         2.155366\n",
      "min     113.665941         1.782064\n",
      "25%     206.264289         5.198349\n",
      "50%     240.194715         6.431822\n",
      "75%     269.362090         7.902812\n",
      "max     679.515529        15.143508\n"
     ]
    }
   ],
   "source": [
    "# Descriptive statistics for ad spend and conversion rates\n",
    "holiday_stats = holiday_data[['ad_spend', 'conversion_rate']].describe()\n",
    "non_holiday_stats = non_holiday_data[['ad_spend', 'conversion_rate']].describe()\n",
    "\n",
    "print(\"Holiday Data Statistics:\")\n",
    "print(holiday_stats)\n",
    "\n",
    "print(\"\\nNon-Holiday Data Statistics:\")\n",
    "print(non_holiday_stats)"
   ]
  },
  {
   "cell_type": "markdown",
   "id": "f7428086",
   "metadata": {},
   "source": [
    "## Correlation Analysis"
   ]
  },
  {
   "cell_type": "code",
   "execution_count": 41,
   "id": "c2ed56e3",
   "metadata": {},
   "outputs": [
    {
     "name": "stdout",
     "output_type": "stream",
     "text": [
      "Correlation between ad spend and conversion rate during holidays: -0.951443656756273\n",
      "Correlation between ad spend and conversion rate during non-holidays: -0.7253153342473745\n"
     ]
    }
   ],
   "source": [
    "# Correlation between ad spend and conversion rate during holidays\n",
    "holiday_corr = holiday_data['ad_spend'].corr(holiday_data['conversion_rate'])\n",
    "print(f\"Correlation between ad spend and conversion rate during holidays: {holiday_corr}\")\n",
    "\n",
    "# Correlation between ad spend and conversion rate during non-holidays\n",
    "non_holiday_corr = non_holiday_data['ad_spend'].corr(non_holiday_data['conversion_rate'])\n",
    "print(f\"Correlation between ad spend and conversion rate during non-holidays: {non_holiday_corr}\")"
   ]
  },
  {
   "cell_type": "markdown",
   "id": "b3d25ca9",
   "metadata": {},
   "source": [
    "## Correlation Analysis Summary\n",
    "\n",
    "**Holiday Data:**\n",
    "\n",
    "* Correlation between ad spend and conversion rate: -0.951\n",
    "\n",
    "    * This strong negative correlation suggests that as ad spend increases during holidays, the conversion rate tends to decrease.\n",
    "\n",
    "**Non-Holiday Data:**\n",
    "\n",
    "* Correlation between ad spend and conversion rate: -0.725\n",
    "\n",
    "    * This moderate negative correlation suggests that as ad spend increases during non-holidays, the conversion rate also tends to decrease, but not as strongly as during holidays.\n",
    "\n"
   ]
  },
  {
   "cell_type": "markdown",
   "id": "5f378706",
   "metadata": {},
   "source": [
    "## Conclusion and Recommendations\n",
    "### Summary:\n",
    "1. During holidays, the average ad spend is higher (mean: 397.91) compared to non-holidays (mean: 247.88).\n",
    "2. During holidays, the average conversion rate is lower (mean: 4.23) compared to non-holidays (mean: 6.71).\n",
    "3. From the Mann-Whitney U test results, we can conclude there is a statistically significant difference in conversion rates between holidays and non-holidays (p-value: 6.011e-06).\n",
    "4. The correlation between ad spend and conversion rate during holidays is -0.951, indicating a strong negative relationship.\n",
    "5. The correlation between ad spend and conversion rate during non-holidays is -0.725, indicating a moderate negative relationship.\n",
    "\n",
    "### Recommendations:\n",
    "So, we should optimize ad spend during holidays to balance higher ad spend if we want to improve coversation rates. Additionally, a healthy budget should be set for non-holiday weeks, as this period tends to bring higher conversion rates compared to holiday weeks."
   ]
  }
 ],
 "metadata": {
  "kernelspec": {
   "display_name": "Python 3",
   "language": "python",
   "name": "python3"
  },
  "language_info": {
   "codemirror_mode": {
    "name": "ipython",
    "version": 3
   },
   "file_extension": ".py",
   "mimetype": "text/x-python",
   "name": "python",
   "nbconvert_exporter": "python",
   "pygments_lexer": "ipython3",
   "version": "3.12.2"
  }
 },
 "nbformat": 4,
 "nbformat_minor": 5
}
